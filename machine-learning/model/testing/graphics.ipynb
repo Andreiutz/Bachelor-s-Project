{
 "cells": [
  {
   "cell_type": "code",
   "execution_count": 2,
   "metadata": {
    "collapsed": true,
    "ExecuteTime": {
     "end_time": "2024-03-29T16:09:53.335739900Z",
     "start_time": "2024-03-29T16:09:53.300742600Z"
    }
   },
   "outputs": [],
   "source": [
    "import numpy as np"
   ]
  },
  {
   "cell_type": "code",
   "execution_count": 27,
   "outputs": [],
   "source": [
    "model_folder = \"../training/saved/2024-03-28/5_1_8_octaves\"\n",
    "archive = np.load(model_folder + \"/predictions.npz\")\n",
    "y_pred = archive[\"y_pred\"]\n",
    "y_gt = archive[\"y_gt\"]"
   ],
   "metadata": {
    "collapsed": false,
    "ExecuteTime": {
     "end_time": "2024-03-29T16:53:32.224354900Z",
     "start_time": "2024-03-29T16:53:32.221356800Z"
    }
   }
  },
  {
   "cell_type": "code",
   "execution_count": 28,
   "outputs": [],
   "source": [
    "def tab_to_pitch(tab):\n",
    "    result = []\n",
    "    open_pitch_values = [40, 45, 50, 55, 59, 64]\n",
    "    for index, string_vector in enumerate(tab):\n",
    "        fret_index = np.argmax(string_vector)\n",
    "        #fret_index = 0 means that the string is muted\n",
    "        if fret_index > 0:\n",
    "            midi_value = fret_index + open_pitch_values[index] - 1\n",
    "            if midi_value not in result:\n",
    "                result.append(midi_value)\n",
    "    return result"
   ],
   "metadata": {
    "collapsed": false,
    "ExecuteTime": {
     "end_time": "2024-03-29T16:53:32.251366100Z",
     "start_time": "2024-03-29T16:53:32.229356600Z"
    }
   }
  },
  {
   "cell_type": "code",
   "execution_count": 29,
   "outputs": [],
   "source": [
    "# aligns equal pitches\n",
    "def process_pitches(pred_pitch_list, gt_pitch_list):\n",
    "    i = 0\n",
    "    j = 0\n",
    "    while i < len(pred_pitch_list) and j < len(gt_pitch_list):\n",
    "        if pred_pitch_list[i] > gt_pitch_list[j]:\n",
    "            pred_pitch_list = pred_pitch_list[:i] + [0] + pred_pitch_list[i:]\n",
    "        elif pred_pitch_list[i] < gt_pitch_list[j]:\n",
    "            gt_pitch_list = gt_pitch_list[:j] + [0] + gt_pitch_list[j:]\n",
    "\n",
    "        i += 1\n",
    "        j += 1\n",
    "    ppllen = len(pred_pitch_list)\n",
    "    gpllen = len(gt_pitch_list)\n",
    "    pred_pitch_list += [0] * (gpllen-j)\n",
    "    gt_pitch_list += [0] * (ppllen-i)\n",
    "    return pred_pitch_list, gt_pitch_list"
   ],
   "metadata": {
    "collapsed": false,
    "ExecuteTime": {
     "end_time": "2024-03-29T16:53:32.811497600Z",
     "start_time": "2024-03-29T16:53:32.801502Z"
    }
   }
  },
  {
   "cell_type": "code",
   "execution_count": 30,
   "outputs": [],
   "source": [
    "pred = []\n",
    "gt = []\n",
    "\n",
    "for i in range(len(y_gt)):\n",
    "    pred_pitches = tab_to_pitch(y_pred[i])\n",
    "    gt_pitches = tab_to_pitch(y_gt[i])\n",
    "    pred_pitches.sort()\n",
    "    gt_pitches.sort()\n",
    "\n",
    "    pred_pitches, gt_pitches = process_pitches(pred_pitches, gt_pitches)\n",
    "    if (len(pred_pitches) != len(gt_pitches)):\n",
    "        raise \"Hello?\"\n",
    "\n",
    "    pred += pred_pitches\n",
    "    gt += gt_pitches"
   ],
   "metadata": {
    "collapsed": false,
    "ExecuteTime": {
     "end_time": "2024-03-29T16:53:37.703954700Z",
     "start_time": "2024-03-29T16:53:33.347473400Z"
    }
   }
  },
  {
   "cell_type": "code",
   "execution_count": 31,
   "outputs": [
    {
     "name": "stdout",
     "output_type": "stream",
     "text": [
      "pitch 40: 0.9155264723378941\n",
      "pitch 41: 0.9564575645756458\n",
      "pitch 42: 0.8580508474576272\n",
      "pitch 43: 0.9568913175470553\n",
      "pitch 44: 0.9136069114470843\n",
      "pitch 45: 0.7670273711012094\n",
      "pitch 46: 0.9190225203641591\n",
      "pitch 47: 0.9165070854078897\n",
      "pitch 48: 0.967741935483871\n",
      "pitch 49: 0.9515418502202643\n",
      "pitch 50: 0.8275862068965517\n",
      "pitch 51: 0.9060773480662984\n",
      "pitch 52: 0.8493975903614458\n",
      "pitch 53: 0.9309426229508196\n",
      "pitch 54: 0.878584729981378\n",
      "pitch 55: 0.6855016538037486\n",
      "pitch 56: 0.8922776148582601\n",
      "pitch 57: 0.8288088642659279\n",
      "pitch 58: 0.8326334733053389\n",
      "pitch 59: 0.6044254658385093\n",
      "pitch 60: 0.8571428571428571\n",
      "pitch 61: 0.8120010301313417\n",
      "pitch 62: 0.7815495207667732\n",
      "pitch 63: 0.7907761529808774\n",
      "pitch 64: 0.7823115161557581\n",
      "pitch 65: 0.7339296543359611\n",
      "pitch 66: 0.707475317348378\n",
      "pitch 67: 0.759751552795031\n",
      "pitch 68: 0.5582341891045711\n",
      "pitch 69: 0.7191283292978208\n",
      "pitch 70: 0.6966887417218544\n",
      "pitch 71: 0.7764945652173914\n",
      "pitch 72: 0.6331853496115427\n",
      "pitch 73: 0.7985524728588661\n",
      "pitch 74: 0.6823630136986302\n",
      "pitch 75: 0.7466216216216216\n",
      "pitch 76: 0.8032258064516129\n",
      "pitch 77: 0.4291497975708502\n",
      "pitch 78: 1.0\n",
      "pitch 79: 0.16666666666666666\n",
      "0.7898464400437348\n"
     ]
    }
   ],
   "source": [
    "gt_freq = [0] * 100\n",
    "pred_freq = [0] * 100\n",
    "\n",
    "for i in range(len(gt)):\n",
    "    gti = gt[i]\n",
    "    predi = pred[i]\n",
    "    gt_freq[gti] += 1\n",
    "    if gti == predi:\n",
    "        pred_freq[predi] += 1\n",
    "avg = 0\n",
    "k = 0\n",
    "for i in range(40, 83):\n",
    "    if gt_freq[i] > 0:\n",
    "        avg += pred_freq[i]/gt_freq[i]\n",
    "        k += 1\n",
    "        print(f\"pitch {i}: {pred_freq[i]/gt_freq[i]}\")\n",
    "print(avg/k)"
   ],
   "metadata": {
    "collapsed": false,
    "ExecuteTime": {
     "end_time": "2024-03-29T16:53:37.783514500Z",
     "start_time": "2024-03-29T16:53:37.733958500Z"
    }
   }
  },
  {
   "cell_type": "code",
   "execution_count": null,
   "outputs": [],
   "source": [],
   "metadata": {
    "collapsed": false
   }
  }
 ],
 "metadata": {
  "kernelspec": {
   "display_name": "Python 3",
   "language": "python",
   "name": "python3"
  },
  "language_info": {
   "codemirror_mode": {
    "name": "ipython",
    "version": 2
   },
   "file_extension": ".py",
   "mimetype": "text/x-python",
   "name": "python",
   "nbconvert_exporter": "python",
   "pygments_lexer": "ipython2",
   "version": "2.7.6"
  }
 },
 "nbformat": 4,
 "nbformat_minor": 0
}
